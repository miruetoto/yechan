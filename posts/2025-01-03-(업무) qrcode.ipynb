{
 "cells": [
  {
   "cell_type": "raw",
   "metadata": {
    "vscode": {
     "languageId": "raw"
    }
   },
   "source": [
    "---\n",
    "title: \"(업무) qrcode -- 학교이메일접근하기\"\n",
    "author: \"신록예찬\"\n",
    "date: \"12/31/2024\"\n",
    "draft: false\n",
    "---"
   ]
  },
  {
   "cell_type": "code",
   "execution_count": 20,
   "metadata": {},
   "outputs": [
    {
     "name": "stdout",
     "output_type": "stream",
     "text": [
      "QR 코드 데이터: otpauth://totp/guebin%40jbnu.ac.kr?secret=YPNHCXYNSJS7F6SJ&issuer=jbnu.ac.kr\n"
     ]
    }
   ],
   "source": [
    "import cv2\n",
    "import pyzbar.pyzbar as pyzbar\n",
    "\n",
    "# QR 코드 이미지 로드\n",
    "img = cv2.imread('qrcode.png')\n",
    "\n",
    "# QR 코드 인식\n",
    "decoded_objects = pyzbar.decode(img)\n",
    "for obj in decoded_objects:\n",
    "    print(\"QR 코드 데이터:\", obj.data.decode(\"utf-8\"))"
   ]
  },
  {
   "cell_type": "markdown",
   "metadata": {},
   "source": [
    "- `qrcode.png` 는 처음 OPT 등록시 보이는 바코드임. \n",
    "- 이미 등록된 경우라면 OTP 를 삭제 후 다시 등록하여 얻을 수 있음. "
   ]
  },
  {
   "cell_type": "code",
   "execution_count": 21,
   "metadata": {},
   "outputs": [
    {
     "name": "stdout",
     "output_type": "stream",
     "text": [
      "현재 Google Authenticator OTP 코드: 390384\n"
     ]
    }
   ],
   "source": [
    "import pyotp\n",
    "\n",
    "# Google Authenticator에 등록된 시크릿 키 (QR 코드에서 추출한 Base32 인코딩)\n",
    "# QR 코드에 포함된 시크릿 키를 사용해야 합니다.\n",
    "secret_key = \"YPNHCXYNSJS7F6SJ\"  # 실제 Google Authenticator 시크릿 키 사용\n",
    "totp = pyotp.TOTP(secret_key)\n",
    "\n",
    "# 현재 OTP 코드 생성\n",
    "current_otp = totp.now()\n",
    "print(f\"현재 Google Authenticator OTP 코드: {current_otp}\")"
   ]
  },
  {
   "cell_type": "markdown",
   "metadata": {},
   "source": [
    "## IMAP"
   ]
  },
  {
   "cell_type": "code",
   "execution_count": 22,
   "metadata": {},
   "outputs": [
    {
     "name": "stdout",
     "output_type": "stream",
     "text": [
      "현재 OTP 코드: 390384\n",
      "로그인 실패! 비밀번호 또는 OTP가 올바르지 않습니다.\n"
     ]
    }
   ],
   "source": [
    "import imaplib\n",
    "import pyotp\n",
    "\n",
    "# Google Authenticator 시크릿 키 (Base32 인코딩)\n",
    "secret_key = \"YPNHCXYNSJS7F6SJ\"\n",
    "totp = pyotp.TOTP(secret_key)\n",
    "\n",
    "# OTP 생성\n",
    "current_otp = totp.now()\n",
    "print(f\"현재 OTP 코드: {current_otp}\")\n",
    "\n",
    "# 사용자 계정 정보\n",
    "username = \"guebin@jbnu.ac.kr\"\n",
    "password = \"tlsrbdus12!@\"\n",
    "\n",
    "# 최종 비밀번호 = 비밀번호 + OTP (예제)\n",
    "combined_password = f\"{password}{current_otp}\"\n",
    "\n",
    "# IMAP 서버 연결 및 로그인 시도\n",
    "imap_server = imaplib.IMAP4_SSL('imap.jbnu.ac.kr')\n",
    "try:\n",
    "    imap_server.login(username, combined_password)\n",
    "    print(\"로그인 성공!\")\n",
    "    imap_server.select(\"INBOX\")\n",
    "    status, messages = imap_server.search(None, \"ALL\")\n",
    "    print(f\"총 메일 수: {len(messages[0].split())}\")\n",
    "    imap_server.logout()\n",
    "except imaplib.IMAP4.error:\n",
    "    print(\"로그인 실패! 비밀번호 또는 OTP가 올바르지 않습니다.\")"
   ]
  },
  {
   "cell_type": "markdown",
   "metadata": {},
   "source": [
    "## SMTP"
   ]
  },
  {
   "cell_type": "code",
   "execution_count": 23,
   "metadata": {},
   "outputs": [
    {
     "name": "stdout",
     "output_type": "stream",
     "text": [
      "현재 OTP 코드: 390384\n"
     ]
    },
    {
     "ename": "KeyboardInterrupt",
     "evalue": "",
     "output_type": "error",
     "traceback": [
      "\u001b[0;31m---------------------------------------------------------------------------\u001b[0m",
      "\u001b[0;31mKeyboardInterrupt\u001b[0m                         Traceback (most recent call last)",
      "Cell \u001b[0;32mIn[23], line 21\u001b[0m\n\u001b[1;32m     18\u001b[0m combined_password \u001b[38;5;241m=\u001b[39m \u001b[38;5;124mf\u001b[39m\u001b[38;5;124m\"\u001b[39m\u001b[38;5;132;01m{\u001b[39;00mpassword\u001b[38;5;132;01m}\u001b[39;00m\u001b[38;5;132;01m{\u001b[39;00mcurrent_otp\u001b[38;5;132;01m}\u001b[39;00m\u001b[38;5;124m\"\u001b[39m\n\u001b[1;32m     20\u001b[0m \u001b[38;5;66;03m# SMTP 서버 연결\u001b[39;00m\n\u001b[0;32m---> 21\u001b[0m smtp_server \u001b[38;5;241m=\u001b[39m \u001b[43msmtplib\u001b[49m\u001b[38;5;241;43m.\u001b[39;49m\u001b[43mSMTP\u001b[49m\u001b[43m(\u001b[49m\u001b[38;5;124;43m'\u001b[39;49m\u001b[38;5;124;43msmtp.jbnu.ac.kr\u001b[39;49m\u001b[38;5;124;43m'\u001b[39;49m\u001b[43m,\u001b[49m\u001b[43m \u001b[49m\u001b[38;5;241;43m587\u001b[39;49m\u001b[43m)\u001b[49m\n\u001b[1;32m     22\u001b[0m smtp_server\u001b[38;5;241m.\u001b[39mstarttls()\n\u001b[1;32m     24\u001b[0m \u001b[38;5;28;01mtry\u001b[39;00m:\n",
      "File \u001b[0;32m~/anaconda3/envs/qr_env/lib/python3.10/smtplib.py:255\u001b[0m, in \u001b[0;36mSMTP.__init__\u001b[0;34m(self, host, port, local_hostname, timeout, source_address)\u001b[0m\n\u001b[1;32m    252\u001b[0m \u001b[38;5;28mself\u001b[39m\u001b[38;5;241m.\u001b[39m_auth_challenge_count \u001b[38;5;241m=\u001b[39m \u001b[38;5;241m0\u001b[39m\n\u001b[1;32m    254\u001b[0m \u001b[38;5;28;01mif\u001b[39;00m host:\n\u001b[0;32m--> 255\u001b[0m     (code, msg) \u001b[38;5;241m=\u001b[39m \u001b[38;5;28;43mself\u001b[39;49m\u001b[38;5;241;43m.\u001b[39;49m\u001b[43mconnect\u001b[49m\u001b[43m(\u001b[49m\u001b[43mhost\u001b[49m\u001b[43m,\u001b[49m\u001b[43m \u001b[49m\u001b[43mport\u001b[49m\u001b[43m)\u001b[49m\n\u001b[1;32m    256\u001b[0m     \u001b[38;5;28;01mif\u001b[39;00m code \u001b[38;5;241m!=\u001b[39m \u001b[38;5;241m220\u001b[39m:\n\u001b[1;32m    257\u001b[0m         \u001b[38;5;28mself\u001b[39m\u001b[38;5;241m.\u001b[39mclose()\n",
      "File \u001b[0;32m~/anaconda3/envs/qr_env/lib/python3.10/smtplib.py:341\u001b[0m, in \u001b[0;36mSMTP.connect\u001b[0;34m(self, host, port, source_address)\u001b[0m\n\u001b[1;32m    339\u001b[0m     port \u001b[38;5;241m=\u001b[39m \u001b[38;5;28mself\u001b[39m\u001b[38;5;241m.\u001b[39mdefault_port\n\u001b[1;32m    340\u001b[0m sys\u001b[38;5;241m.\u001b[39maudit(\u001b[38;5;124m\"\u001b[39m\u001b[38;5;124msmtplib.connect\u001b[39m\u001b[38;5;124m\"\u001b[39m, \u001b[38;5;28mself\u001b[39m, host, port)\n\u001b[0;32m--> 341\u001b[0m \u001b[38;5;28mself\u001b[39m\u001b[38;5;241m.\u001b[39msock \u001b[38;5;241m=\u001b[39m \u001b[38;5;28;43mself\u001b[39;49m\u001b[38;5;241;43m.\u001b[39;49m\u001b[43m_get_socket\u001b[49m\u001b[43m(\u001b[49m\u001b[43mhost\u001b[49m\u001b[43m,\u001b[49m\u001b[43m \u001b[49m\u001b[43mport\u001b[49m\u001b[43m,\u001b[49m\u001b[43m \u001b[49m\u001b[38;5;28;43mself\u001b[39;49m\u001b[38;5;241;43m.\u001b[39;49m\u001b[43mtimeout\u001b[49m\u001b[43m)\u001b[49m\n\u001b[1;32m    342\u001b[0m \u001b[38;5;28mself\u001b[39m\u001b[38;5;241m.\u001b[39mfile \u001b[38;5;241m=\u001b[39m \u001b[38;5;28;01mNone\u001b[39;00m\n\u001b[1;32m    343\u001b[0m (code, msg) \u001b[38;5;241m=\u001b[39m \u001b[38;5;28mself\u001b[39m\u001b[38;5;241m.\u001b[39mgetreply()\n",
      "File \u001b[0;32m~/anaconda3/envs/qr_env/lib/python3.10/smtplib.py:312\u001b[0m, in \u001b[0;36mSMTP._get_socket\u001b[0;34m(self, host, port, timeout)\u001b[0m\n\u001b[1;32m    310\u001b[0m \u001b[38;5;28;01mif\u001b[39;00m \u001b[38;5;28mself\u001b[39m\u001b[38;5;241m.\u001b[39mdebuglevel \u001b[38;5;241m>\u001b[39m \u001b[38;5;241m0\u001b[39m:\n\u001b[1;32m    311\u001b[0m     \u001b[38;5;28mself\u001b[39m\u001b[38;5;241m.\u001b[39m_print_debug(\u001b[38;5;124m'\u001b[39m\u001b[38;5;124mconnect: to\u001b[39m\u001b[38;5;124m'\u001b[39m, (host, port), \u001b[38;5;28mself\u001b[39m\u001b[38;5;241m.\u001b[39msource_address)\n\u001b[0;32m--> 312\u001b[0m \u001b[38;5;28;01mreturn\u001b[39;00m \u001b[43msocket\u001b[49m\u001b[38;5;241;43m.\u001b[39;49m\u001b[43mcreate_connection\u001b[49m\u001b[43m(\u001b[49m\u001b[43m(\u001b[49m\u001b[43mhost\u001b[49m\u001b[43m,\u001b[49m\u001b[43m \u001b[49m\u001b[43mport\u001b[49m\u001b[43m)\u001b[49m\u001b[43m,\u001b[49m\u001b[43m \u001b[49m\u001b[43mtimeout\u001b[49m\u001b[43m,\u001b[49m\n\u001b[1;32m    313\u001b[0m \u001b[43m                                \u001b[49m\u001b[38;5;28;43mself\u001b[39;49m\u001b[38;5;241;43m.\u001b[39;49m\u001b[43msource_address\u001b[49m\u001b[43m)\u001b[49m\n",
      "File \u001b[0;32m~/anaconda3/envs/qr_env/lib/python3.10/socket.py:845\u001b[0m, in \u001b[0;36mcreate_connection\u001b[0;34m(address, timeout, source_address)\u001b[0m\n\u001b[1;32m    843\u001b[0m \u001b[38;5;28;01mif\u001b[39;00m source_address:\n\u001b[1;32m    844\u001b[0m     sock\u001b[38;5;241m.\u001b[39mbind(source_address)\n\u001b[0;32m--> 845\u001b[0m \u001b[43msock\u001b[49m\u001b[38;5;241;43m.\u001b[39;49m\u001b[43mconnect\u001b[49m\u001b[43m(\u001b[49m\u001b[43msa\u001b[49m\u001b[43m)\u001b[49m\n\u001b[1;32m    846\u001b[0m \u001b[38;5;66;03m# Break explicitly a reference cycle\u001b[39;00m\n\u001b[1;32m    847\u001b[0m err \u001b[38;5;241m=\u001b[39m \u001b[38;5;28;01mNone\u001b[39;00m\n",
      "\u001b[0;31mKeyboardInterrupt\u001b[0m: "
     ]
    }
   ],
   "source": [
    "import smtplib\n",
    "from email.mime.text import MIMEText\n",
    "import pyotp\n",
    "\n",
    "# Google Authenticator 시크릿 키 (Base32)\n",
    "secret_key = \"YPNHCXYNSJS7F6SJ\"\n",
    "totp = pyotp.TOTP(secret_key)\n",
    "\n",
    "# OTP 생성\n",
    "current_otp = totp.now()\n",
    "print(f\"현재 OTP 코드: {current_otp}\")\n",
    "\n",
    "# 사용자 계정 정보\n",
    "username = \"guebin@jbnu.ac.kr\"\n",
    "password = \"tlsrbdus12!@\"\n",
    "\n",
    "# 비밀번호 + OTP 조합\n",
    "combined_password = f\"{password}{current_otp}\"\n",
    "\n",
    "# SMTP 서버 연결\n",
    "smtp_server = smtplib.SMTP('smtp.jbnu.ac.kr', 587)\n",
    "smtp_server.starttls()\n",
    "\n",
    "try:\n",
    "    smtp_server.login(username, combined_password)\n",
    "    msg = MIMEText(\"Google Authenticator 기반 SMTP 테스트 메일입니다.\")\n",
    "    msg[\"Subject\"] = \"Google Authenticator Test\"\n",
    "    msg[\"From\"] = username\n",
    "    msg[\"To\"] = \"gbchoi0814@gmail.com\"\n",
    "    \n",
    "    smtp_server.sendmail(username, \"gbchoi0814@gmail.com\", msg.as_string())\n",
    "    print(\"메일 발송 성공!\")\n",
    "    smtp_server.quit()\n",
    "except smtplib.SMTPAuthenticationError:\n",
    "    print(\"로그인 실패! 비밀번호 또는 OTP가 올바르지 않습니다.\")"
   ]
  },
  {
   "cell_type": "markdown",
   "metadata": {},
   "source": [
    "## Selenium"
   ]
  },
  {
   "cell_type": "code",
   "execution_count": 18,
   "metadata": {},
   "outputs": [
    {
     "name": "stdout",
     "output_type": "stream",
     "text": [
      "현재 OTP 코드: 500622\n",
      "OTP 입력 완료!\n",
      "로그인 성공!\n",
      "\n",
      "--- 최근 5개의 메일 제목 ---\n",
      "1. Recommendation Confirmation: Suin Kang\n",
      "2. The Graduate School - University of Washington : RecommendationSubmitted\n",
      "3. 2024학년도 글로컬30 연구역량강화 지원사업 신청기한 및 조기 신청 안내\n",
      "4. RE: [RE]인포커스) 자연과학대학 학과 홍보영상 제작 관련 미팅 일정 안내사항\n",
      "5. RE: [RE]추천서 작성 요청드립니다\n"
     ]
    }
   ],
   "source": [
    "from selenium import webdriver\n",
    "from selenium.webdriver.chrome.service import Service\n",
    "from selenium.webdriver.chrome.options import Options\n",
    "from selenium.webdriver.common.by import By\n",
    "from selenium.webdriver.support.ui import WebDriverWait\n",
    "from selenium.webdriver.support import expected_conditions as EC\n",
    "import pyotp\n",
    "import time\n",
    "from webdriver_manager.chrome import ChromeDriverManager\n",
    "\n",
    "# Google Authenticator 시크릿 키\n",
    "secret_key = \"YPNHCXYNSJS7F6SJ\"\n",
    "totp = pyotp.TOTP(secret_key)\n",
    "\n",
    "# Chrome 옵션 설정\n",
    "options = Options()\n",
    "options.add_argument(\"--headless\")  \n",
    "options.add_argument(\"--no-sandbox\")\n",
    "options.add_argument(\"--disable-dev-shm-usage\")\n",
    "\n",
    "# WebDriver Manager를 통한 ChromeDriver 자동 설치\n",
    "service = Service(ChromeDriverManager().install())\n",
    "driver = webdriver.Chrome(service=service, options=options)\n",
    "\n",
    "# JBNU 메일 로그인 페이지로 이동\n",
    "driver.get('https://mail.jbnu.ac.kr')\n",
    "\n",
    "# 명시적 대기 설정\n",
    "wait = WebDriverWait(driver, 10)\n",
    "\n",
    "# 사용자 이름 및 비밀번호 입력\n",
    "wait.until(EC.presence_of_element_located((By.ID, \"cid\"))).send_keys(\"guebin@jbnu.ac.kr\")\n",
    "wait.until(EC.presence_of_element_located((By.ID, \"cpw\"))).send_keys(\"tlsrbdus12!@\")\n",
    "\n",
    "# 로그인 버튼 클릭\n",
    "driver.find_element(By.ID, \"btnlogin\").click()\n",
    "\n",
    "# 2단계 인증 코드 대기 및 입력\n",
    "try:\n",
    "    wait.until(EC.presence_of_element_located((By.ID, \"otp_code1\")))\n",
    "    current_otp = totp.now()\n",
    "    print(f\"현재 OTP 코드: {current_otp}\")\n",
    "    \n",
    "    for idx, digit in enumerate(current_otp):\n",
    "        driver.find_element(By.ID, f\"otp_code{idx + 1}\").send_keys(digit)\n",
    "\n",
    "    driver.find_element(By.ID, \"loginBtn\").click()\n",
    "    print(\"OTP 입력 완료!\")\n",
    "except Exception as e:\n",
    "    print(\"OTP 필드가 감지되지 않았습니다. 아마도 2단계 인증이 비활성화된 것으로 보입니다.\")\n",
    "\n",
    "# 로그인 성공 여부 확인\n",
    "time.sleep(5)\n",
    "if \"로그아웃\" in driver.page_source:\n",
    "    print(\"로그인 성공!\")\n",
    "\n",
    "    # 받은 편지함으로 이동\n",
    "    driver.get('https://mail.jbnu.ac.kr/webmail/lists?t=1735910040')  # 실제 받은 편지함 URL 확인 필요\n",
    "    wait.until(EC.presence_of_element_located((By.CLASS_NAME, \"mail_subject\")))\n",
    "\n",
    "    # 메일 제목 가져오기 (최대 5개)\n",
    "    mail_titles = driver.find_elements(By.CLASS_NAME, \"mail_subject\")[:5]  \n",
    "\n",
    "    print(\"\\n--- 최근 5개의 메일 제목 ---\")\n",
    "    for idx, title in enumerate(mail_titles):\n",
    "        print(f\"{idx + 1}. {title.text}\")\n",
    "\n",
    "else:\n",
    "    print(\"로그인 실패!\")\n",
    "\n",
    "# 드라이버 종료\n",
    "driver.quit()"
   ]
  },
  {
   "cell_type": "code",
   "execution_count": 41,
   "metadata": {},
   "outputs": [
    {
     "name": "stdout",
     "output_type": "stream",
     "text": [
      "현재 OTP 코드: 418195\n",
      "OTP 입력 완료!\n",
      "로그인 성공!\n",
      "받음편지함\n",
      "맨 아래 메일 제목: asdfasdf\n"
     ]
    },
    {
     "ename": "TimeoutException",
     "evalue": "Message: \nStacktrace:\n#0 0x60cce582c8fa <unknown>\n#1 0x60cce533dd20 <unknown>\n#2 0x60cce538ca66 <unknown>\n#3 0x60cce538cd01 <unknown>\n#4 0x60cce53d2184 <unknown>\n#5 0x60cce53b0b1d <unknown>\n#6 0x60cce53cf560 <unknown>\n#7 0x60cce53b0893 <unknown>\n#8 0x60cce537f30d <unknown>\n#9 0x60cce538032e <unknown>\n#10 0x60cce57f900b <unknown>\n#11 0x60cce57fcf97 <unknown>\n#12 0x60cce57e571c <unknown>\n#13 0x60cce57fdb17 <unknown>\n#14 0x60cce57ca6cf <unknown>\n#15 0x60cce581b6b8 <unknown>\n#16 0x60cce581b880 <unknown>\n#17 0x60cce582b776 <unknown>\n#18 0x79d38ee94ac3 <unknown>\n",
     "output_type": "error",
     "traceback": [
      "\u001b[0;31m---------------------------------------------------------------------------\u001b[0m",
      "\u001b[0;31mTimeoutException\u001b[0m                          Traceback (most recent call last)",
      "Cell \u001b[0;32mIn[41], line 73\u001b[0m\n\u001b[1;32m     71\u001b[0m \u001b[38;5;66;03m# 메일 전달 버튼 클릭\u001b[39;00m\n\u001b[1;32m     72\u001b[0m wait \u001b[38;5;241m=\u001b[39m WebDriverWait(driver, \u001b[38;5;241m10\u001b[39m) \n\u001b[0;32m---> 73\u001b[0m \u001b[43mwait\u001b[49m\u001b[38;5;241;43m.\u001b[39;49m\u001b[43muntil\u001b[49m\u001b[43m(\u001b[49m\u001b[43mEC\u001b[49m\u001b[38;5;241;43m.\u001b[39;49m\u001b[43melement_to_be_clickable\u001b[49m\u001b[43m(\u001b[49m\u001b[43m(\u001b[49m\u001b[43mBy\u001b[49m\u001b[38;5;241;43m.\u001b[39;49m\u001b[43mXPATH\u001b[49m\u001b[43m,\u001b[49m\u001b[43m \u001b[49m\u001b[38;5;124;43m\"\u001b[39;49m\u001b[38;5;124;43m//button[text()=\u001b[39;49m\u001b[38;5;124;43m'\u001b[39;49m\u001b[38;5;124;43m전달\u001b[39;49m\u001b[38;5;124;43m'\u001b[39;49m\u001b[38;5;124;43m]\u001b[39;49m\u001b[38;5;124;43m\"\u001b[39;49m\u001b[43m)\u001b[49m\u001b[43m)\u001b[49m\u001b[43m)\u001b[49m\u001b[38;5;241m.\u001b[39mclick()\n\u001b[1;32m     75\u001b[0m \u001b[38;5;66;03m# 수신자 이메일 주소 입력 (여기서는 'gbchoi0814@gmail.com'으로 설정)\u001b[39;00m\n\u001b[1;32m     76\u001b[0m wait\u001b[38;5;241m.\u001b[39muntil(EC\u001b[38;5;241m.\u001b[39mpresence_of_element_located((By\u001b[38;5;241m.\u001b[39mID, \u001b[38;5;124m\"\u001b[39m\u001b[38;5;124mto\u001b[39m\u001b[38;5;124m\"\u001b[39m)))\u001b[38;5;241m.\u001b[39msend_keys(\u001b[38;5;124m\"\u001b[39m\u001b[38;5;124mgbchoi0814@gmail.com\u001b[39m\u001b[38;5;124m\"\u001b[39m)\n",
      "File \u001b[0;32m~/anaconda3/envs/qr_env/lib/python3.10/site-packages/selenium/webdriver/support/wait.py:105\u001b[0m, in \u001b[0;36mWebDriverWait.until\u001b[0;34m(self, method, message)\u001b[0m\n\u001b[1;32m    103\u001b[0m         \u001b[38;5;28;01mbreak\u001b[39;00m\n\u001b[1;32m    104\u001b[0m     time\u001b[38;5;241m.\u001b[39msleep(\u001b[38;5;28mself\u001b[39m\u001b[38;5;241m.\u001b[39m_poll)\n\u001b[0;32m--> 105\u001b[0m \u001b[38;5;28;01mraise\u001b[39;00m TimeoutException(message, screen, stacktrace)\n",
      "\u001b[0;31mTimeoutException\u001b[0m: Message: \nStacktrace:\n#0 0x60cce582c8fa <unknown>\n#1 0x60cce533dd20 <unknown>\n#2 0x60cce538ca66 <unknown>\n#3 0x60cce538cd01 <unknown>\n#4 0x60cce53d2184 <unknown>\n#5 0x60cce53b0b1d <unknown>\n#6 0x60cce53cf560 <unknown>\n#7 0x60cce53b0893 <unknown>\n#8 0x60cce537f30d <unknown>\n#9 0x60cce538032e <unknown>\n#10 0x60cce57f900b <unknown>\n#11 0x60cce57fcf97 <unknown>\n#12 0x60cce57e571c <unknown>\n#13 0x60cce57fdb17 <unknown>\n#14 0x60cce57ca6cf <unknown>\n#15 0x60cce581b6b8 <unknown>\n#16 0x60cce581b880 <unknown>\n#17 0x60cce582b776 <unknown>\n#18 0x79d38ee94ac3 <unknown>\n"
     ]
    }
   ],
   "source": [
    "from selenium import webdriver\n",
    "from selenium.webdriver.chrome.service import Service\n",
    "from selenium.webdriver.chrome.options import Options\n",
    "from selenium.webdriver.common.by import By\n",
    "from selenium.webdriver.support.ui import WebDriverWait\n",
    "from selenium.webdriver.support import expected_conditions as EC\n",
    "import pyotp\n",
    "import time\n",
    "from webdriver_manager.chrome import ChromeDriverManager\n",
    "\n",
    "# Google Authenticator 시크릿 키\n",
    "secret_key = \"YPNHCXYNSJS7F6SJ\"\n",
    "totp = pyotp.TOTP(secret_key)\n",
    "\n",
    "# Chrome 옵션 설정\n",
    "options = Options()\n",
    "options.add_argument(\"--headless\")  \n",
    "options.add_argument(\"--no-sandbox\")\n",
    "options.add_argument(\"--disable-dev-shm-usage\")\n",
    "\n",
    "# WebDriver Manager를 통한 ChromeDriver 자동 설치\n",
    "service = Service(ChromeDriverManager().install())\n",
    "driver = webdriver.Chrome(service=service, options=options)\n",
    "\n",
    "# JBNU 메일 로그인 페이지로 이동\n",
    "driver.get('https://mail.jbnu.ac.kr')\n",
    "\n",
    "# 명시적 대기 설정\n",
    "wait = WebDriverWait(driver, 10)\n",
    "\n",
    "# 사용자 이름 및 비밀번호 입력\n",
    "wait.until(EC.presence_of_element_located((By.ID, \"cid\"))).send_keys(\"guebin@jbnu.ac.kr\")\n",
    "wait.until(EC.presence_of_element_located((By.ID, \"cpw\"))).send_keys(\"tlsrbdus12!@\")\n",
    "\n",
    "# 로그인 버튼 클릭\n",
    "driver.find_element(By.ID, \"btnlogin\").click()\n",
    "\n",
    "# 2단계 인증 코드 대기 및 입력\n",
    "try:\n",
    "    wait.until(EC.presence_of_element_located((By.ID, \"otp_code1\")))\n",
    "    current_otp = totp.now()\n",
    "    print(f\"현재 OTP 코드: {current_otp}\")\n",
    "    \n",
    "    for idx, digit in enumerate(current_otp):\n",
    "        driver.find_element(By.ID, f\"otp_code{idx + 1}\").send_keys(digit)\n",
    "\n",
    "    driver.find_element(By.ID, \"loginBtn\").click()\n",
    "    print(\"OTP 입력 완료!\")\n",
    "except Exception as e:\n",
    "    print(\"OTP 필드가 감지되지 않았습니다. 아마도 2단계 인증이 비활성화된 것으로 보입니다.\")\n",
    "\n",
    "\n",
    "# 로그인 성공 여부 확인\n",
    "time.sleep(5)\n",
    "if \"로그아웃\" in driver.page_source:\n",
    "    print(\"로그인 성공!\")\n",
    "\n",
    "    # 읽지 않은 메일함으로 이동\n",
    "    driver.get('https://zm931.mailplug.com/webmail/lists#%7B%22s_fnum%22%3A%22all_mail%22%2C%22view%22%3A%22%22%2C%22list%22%3Atrue%2C%22type%22%3A%22%22%2C%22t%22%3A1735914218822%2C%22serchWord%22%3A%22%22%2C%22searchKind%22%3A%22all%22%2C%22sch_in_word%22%3A%22%22%2C%22ymd%22%3A%22%22%2C%22page%22%3A%22%22%2C%22sod%22%3A%22%22%2C%22sst%22%3A%22%22%2C%22mailrefresh%22%3A%22%22%2C%22mdl%22%3A%22lists%22%2C%22s_mread%22%3A%22N%22%7D')  # 실제 받은 편지함 URL 확인 필요\n",
    "    wait.until(EC.presence_of_element_located((By.CLASS_NAME, \"mail_subject\")))\n",
    "    print(\"받음편지함\")\n",
    "\n",
    "    # 안 읽은 메일 제목을 가져오기 (맨 아래 메일)\n",
    "    mail_titles = driver.find_elements(By.CLASS_NAME, \"mail_subject\")\n",
    "    if mail_titles:\n",
    "        print(f\"맨 아래 메일 제목: {mail_titles[-1].text}\")\n",
    "        # 가장 마지막 메일 클릭\n",
    "        mail_titles[-1].click()\n",
    "    else:\n",
    "        print(\"안 읽은 메일이 없습니다.\")\n",
    "    # 메일 전달 버튼 클릭\n",
    "    wait = WebDriverWait(driver, 10) \n",
    "    wait.until(EC.element_to_be_clickable((By.XPATH, \"//button[text()='전달']\"))).click()\n",
    "    \n",
    "    # 수신자 이메일 주소 입력 (여기서는 'gbchoi0814@gmail.com'으로 설정)\n",
    "    wait.until(EC.presence_of_element_located((By.ID, \"to\"))).send_keys(\"gbchoi0814@gmail.com\")\n",
    "    \n",
    "    # 전달 버튼 클릭\n",
    "    wait.until(EC.presence_of_element_located((By.ID, \"sendBtn\"))).click()\n",
    "    print(\"메일이 성공적으로 전달되었습니다!\")\n",
    "else:\n",
    "    print(\"로그인 실패!\")"
   ]
  },
  {
   "cell_type": "code",
   "execution_count": null,
   "metadata": {},
   "outputs": [],
   "source": []
  },
  {
   "cell_type": "code",
   "execution_count": 38,
   "metadata": {},
   "outputs": [
    {
     "ename": "StaleElementReferenceException",
     "evalue": "Message: stale element reference: stale element not found in the current frame\n  (Session info: chrome=131.0.6778.204); For documentation on this error, please visit: https://www.selenium.dev/documentation/webdriver/troubleshooting/errors#stale-element-reference-exception\nStacktrace:\n#0 0x55a345d438fa <unknown>\n#1 0x55a345854d20 <unknown>\n#2 0x55a34585aae3 <unknown>\n#3 0x55a34585cfa8 <unknown>\n#4 0x55a34585d033 <unknown>\n#5 0x55a34589e232 <unknown>\n#6 0x55a3458c7af2 <unknown>\n#7 0x55a3458980a8 <unknown>\n#8 0x55a3458c7cbe <unknown>\n#9 0x55a3458e6560 <unknown>\n#10 0x55a3458c7893 <unknown>\n#11 0x55a34589630d <unknown>\n#12 0x55a34589732e <unknown>\n#13 0x55a345d1000b <unknown>\n#14 0x55a345d13f97 <unknown>\n#15 0x55a345cfc71c <unknown>\n#16 0x55a345d14b17 <unknown>\n#17 0x55a345ce16cf <unknown>\n#18 0x55a345d326b8 <unknown>\n#19 0x55a345d32880 <unknown>\n#20 0x55a345d42776 <unknown>\n#21 0x751588a94ac3 <unknown>\n",
     "output_type": "error",
     "traceback": [
      "\u001b[0;31m---------------------------------------------------------------------------\u001b[0m",
      "\u001b[0;31mStaleElementReferenceException\u001b[0m            Traceback (most recent call last)",
      "Cell \u001b[0;32mIn[38], line 1\u001b[0m\n\u001b[0;32m----> 1\u001b[0m \u001b[43mmail_titles\u001b[49m\u001b[43m[\u001b[49m\u001b[38;5;241;43m-\u001b[39;49m\u001b[38;5;241;43m1\u001b[39;49m\u001b[43m]\u001b[49m\u001b[38;5;241;43m.\u001b[39;49m\u001b[43mtext\u001b[49m\n",
      "File \u001b[0;32m~/anaconda3/envs/qr_env/lib/python3.10/site-packages/selenium/webdriver/remote/webelement.py:90\u001b[0m, in \u001b[0;36mWebElement.text\u001b[0;34m(self)\u001b[0m\n\u001b[1;32m     87\u001b[0m \u001b[38;5;129m@property\u001b[39m\n\u001b[1;32m     88\u001b[0m \u001b[38;5;28;01mdef\u001b[39;00m \u001b[38;5;21mtext\u001b[39m(\u001b[38;5;28mself\u001b[39m) \u001b[38;5;241m-\u001b[39m\u001b[38;5;241m>\u001b[39m \u001b[38;5;28mstr\u001b[39m:\n\u001b[1;32m     89\u001b[0m \u001b[38;5;250m    \u001b[39m\u001b[38;5;124;03m\"\"\"The text of the element.\"\"\"\u001b[39;00m\n\u001b[0;32m---> 90\u001b[0m     \u001b[38;5;28;01mreturn\u001b[39;00m \u001b[38;5;28;43mself\u001b[39;49m\u001b[38;5;241;43m.\u001b[39;49m\u001b[43m_execute\u001b[49m\u001b[43m(\u001b[49m\u001b[43mCommand\u001b[49m\u001b[38;5;241;43m.\u001b[39;49m\u001b[43mGET_ELEMENT_TEXT\u001b[49m\u001b[43m)\u001b[49m[\u001b[38;5;124m\"\u001b[39m\u001b[38;5;124mvalue\u001b[39m\u001b[38;5;124m\"\u001b[39m]\n",
      "File \u001b[0;32m~/anaconda3/envs/qr_env/lib/python3.10/site-packages/selenium/webdriver/remote/webelement.py:395\u001b[0m, in \u001b[0;36mWebElement._execute\u001b[0;34m(self, command, params)\u001b[0m\n\u001b[1;32m    393\u001b[0m     params \u001b[38;5;241m=\u001b[39m {}\n\u001b[1;32m    394\u001b[0m params[\u001b[38;5;124m\"\u001b[39m\u001b[38;5;124mid\u001b[39m\u001b[38;5;124m\"\u001b[39m] \u001b[38;5;241m=\u001b[39m \u001b[38;5;28mself\u001b[39m\u001b[38;5;241m.\u001b[39m_id\n\u001b[0;32m--> 395\u001b[0m \u001b[38;5;28;01mreturn\u001b[39;00m \u001b[38;5;28;43mself\u001b[39;49m\u001b[38;5;241;43m.\u001b[39;49m\u001b[43m_parent\u001b[49m\u001b[38;5;241;43m.\u001b[39;49m\u001b[43mexecute\u001b[49m\u001b[43m(\u001b[49m\u001b[43mcommand\u001b[49m\u001b[43m,\u001b[49m\u001b[43m \u001b[49m\u001b[43mparams\u001b[49m\u001b[43m)\u001b[49m\n",
      "File \u001b[0;32m~/anaconda3/envs/qr_env/lib/python3.10/site-packages/selenium/webdriver/remote/webdriver.py:384\u001b[0m, in \u001b[0;36mWebDriver.execute\u001b[0;34m(self, driver_command, params)\u001b[0m\n\u001b[1;32m    382\u001b[0m response \u001b[38;5;241m=\u001b[39m \u001b[38;5;28mself\u001b[39m\u001b[38;5;241m.\u001b[39mcommand_executor\u001b[38;5;241m.\u001b[39mexecute(driver_command, params)\n\u001b[1;32m    383\u001b[0m \u001b[38;5;28;01mif\u001b[39;00m response:\n\u001b[0;32m--> 384\u001b[0m     \u001b[38;5;28;43mself\u001b[39;49m\u001b[38;5;241;43m.\u001b[39;49m\u001b[43merror_handler\u001b[49m\u001b[38;5;241;43m.\u001b[39;49m\u001b[43mcheck_response\u001b[49m\u001b[43m(\u001b[49m\u001b[43mresponse\u001b[49m\u001b[43m)\u001b[49m\n\u001b[1;32m    385\u001b[0m     response[\u001b[38;5;124m\"\u001b[39m\u001b[38;5;124mvalue\u001b[39m\u001b[38;5;124m\"\u001b[39m] \u001b[38;5;241m=\u001b[39m \u001b[38;5;28mself\u001b[39m\u001b[38;5;241m.\u001b[39m_unwrap_value(response\u001b[38;5;241m.\u001b[39mget(\u001b[38;5;124m\"\u001b[39m\u001b[38;5;124mvalue\u001b[39m\u001b[38;5;124m\"\u001b[39m, \u001b[38;5;28;01mNone\u001b[39;00m))\n\u001b[1;32m    386\u001b[0m     \u001b[38;5;28;01mreturn\u001b[39;00m response\n",
      "File \u001b[0;32m~/anaconda3/envs/qr_env/lib/python3.10/site-packages/selenium/webdriver/remote/errorhandler.py:232\u001b[0m, in \u001b[0;36mErrorHandler.check_response\u001b[0;34m(self, response)\u001b[0m\n\u001b[1;32m    230\u001b[0m         alert_text \u001b[38;5;241m=\u001b[39m value[\u001b[38;5;124m\"\u001b[39m\u001b[38;5;124malert\u001b[39m\u001b[38;5;124m\"\u001b[39m]\u001b[38;5;241m.\u001b[39mget(\u001b[38;5;124m\"\u001b[39m\u001b[38;5;124mtext\u001b[39m\u001b[38;5;124m\"\u001b[39m)\n\u001b[1;32m    231\u001b[0m     \u001b[38;5;28;01mraise\u001b[39;00m exception_class(message, screen, stacktrace, alert_text)  \u001b[38;5;66;03m# type: ignore[call-arg]  # mypy is not smart enough here\u001b[39;00m\n\u001b[0;32m--> 232\u001b[0m \u001b[38;5;28;01mraise\u001b[39;00m exception_class(message, screen, stacktrace)\n",
      "\u001b[0;31mStaleElementReferenceException\u001b[0m: Message: stale element reference: stale element not found in the current frame\n  (Session info: chrome=131.0.6778.204); For documentation on this error, please visit: https://www.selenium.dev/documentation/webdriver/troubleshooting/errors#stale-element-reference-exception\nStacktrace:\n#0 0x55a345d438fa <unknown>\n#1 0x55a345854d20 <unknown>\n#2 0x55a34585aae3 <unknown>\n#3 0x55a34585cfa8 <unknown>\n#4 0x55a34585d033 <unknown>\n#5 0x55a34589e232 <unknown>\n#6 0x55a3458c7af2 <unknown>\n#7 0x55a3458980a8 <unknown>\n#8 0x55a3458c7cbe <unknown>\n#9 0x55a3458e6560 <unknown>\n#10 0x55a3458c7893 <unknown>\n#11 0x55a34589630d <unknown>\n#12 0x55a34589732e <unknown>\n#13 0x55a345d1000b <unknown>\n#14 0x55a345d13f97 <unknown>\n#15 0x55a345cfc71c <unknown>\n#16 0x55a345d14b17 <unknown>\n#17 0x55a345ce16cf <unknown>\n#18 0x55a345d326b8 <unknown>\n#19 0x55a345d32880 <unknown>\n#20 0x55a345d42776 <unknown>\n#21 0x751588a94ac3 <unknown>\n"
     ]
    }
   ],
   "source": [
    "mail_titles[-1].text"
   ]
  },
  {
   "cell_type": "code",
   "execution_count": null,
   "metadata": {},
   "outputs": [],
   "source": []
  }
 ],
 "metadata": {
  "kernelspec": {
   "display_name": "hf",
   "language": "python",
   "name": "python3"
  },
  "language_info": {
   "codemirror_mode": {
    "name": "ipython",
    "version": 3
   },
   "file_extension": ".py",
   "mimetype": "text/x-python",
   "name": "python",
   "nbconvert_exporter": "python",
   "pygments_lexer": "ipython3",
   "version": "3.12.2"
  }
 },
 "nbformat": 4,
 "nbformat_minor": 2
}
